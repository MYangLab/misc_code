{
 "cells": [
  {
   "cell_type": "code",
   "execution_count": 1,
   "metadata": {},
   "outputs": [
    {
     "name": "stdout",
     "output_type": "stream",
     "text": [
      "Writing AEASO_Qihe_dvBbdong.map\n"
     ]
    }
   ],
   "source": [
    "%%writefile AEASO_Qihe_dvBbdong.map\n",
    "HDYM1\t41.997907\t114.171695\t0.003921\t5.479\n",
    "Boshan\t38.2\t118.5\t0.006478\t9.126\n",
    "Xiaojingshan\t36\t116\t0.004427\t7.263\n",
    "Xiaogao\t36\t118.5\t0.005292\t7.51\n",
    "LiangDao1\t26.35\t120.23\t-0.000706\t-0.927\n",
    "LiangDao2\t26.35\t122.7\t-0.000922\t-1.291\n",
    "DevilsCave_N\t44.483333\t135.383333\t0.004629\t8.176\n",
    "Shamanka_EN\t51.69833333\t103.7030556\t0.003886\t8.093\n",
    "Lokomotiv_EN\t53.9\t104.24916666666667\t0.003726\t5.994\n",
    "UstBelaya_N\t53.9\t106.7\t0.004624\t5.137\n",
    "test\t0\t0\t-0.001889\t0\n",
    "test\t0\t0\t0.000001\t0\n",
    "test\t0\t0\t-0.000001\t0\n",
    "test\t0\t0\t0.006478\t0"
   ]
  },
  {
   "cell_type": "code",
   "execution_count": 45,
   "metadata": {},
   "outputs": [
    {
     "name": "stdout",
     "output_type": "stream",
     "text": [
      "Overwriting heatmap_aEA_f4_QvBB.R\n"
     ]
    }
   ],
   "source": [
    "%%writefile heatmap_aEA_f4_QvBB.R\n",
    "args=commandArgs(TRUE)\n",
    "\n",
    "STATFILE = as.character(args[1])\n",
    "\n",
    "print(STATFILE)\n",
    "\n",
    "print(paste(STATFILE,'.map',sep=''))\n",
    "library(fields)\n",
    "library(RColorBrewer)\n",
    "\n",
    "padding = 3\n",
    "\n",
    "data=read.table(paste(STATFILE,'.map',sep=''))\n",
    "#print (data)\n",
    "\n",
    "datapos=subset(data,V4>0)\n",
    "dataneg=subset(data,V4<0)\n",
    "\n",
    "statpos=as.numeric(datapos[,4])\n",
    "statneg=as.numeric(dataneg[,4])\n",
    "latpos=as.numeric(datapos[,2])\n",
    "latneg=as.numeric(dataneg[,2])\n",
    "lonpos<-as.numeric(datapos[,3])\n",
    "lonneg<-as.numeric(dataneg[,3])\n",
    "namespos=as.character(datapos[,1])\n",
    "namesneg=as.character(dataneg[,1])\n",
    "\n",
    "minLong = 80\n",
    "maxLong = 145.5\n",
    "minLat = 5\n",
    "maxLat = 55\n",
    "\n",
    "rgbpos=colorRampPalette(c(\"white\",\"darkgreen\"))\n",
    "rgbneg=colorRampPalette(c(\"darkblue\",\"white\"))\n",
    "colpos=rgbpos(24) # thousandth position times 4\n",
    "colneg=rgbneg(8) # thousandth position times 4\n",
    "colors=c(colneg,colpos)\n",
    "maxstat =max(statpos)\n",
    "minstat = min(statneg)\n",
    "\n",
    "pdf(paste(STATFILE,'.newmap.pdf',sep=''),width=15,height=15) #,res=300)\n",
    "par(mar=c(5,6,4,1)+.1)\n",
    "\n",
    "library(mapdata)\n",
    "library(maps)\n",
    "library(maptools)\n",
    "map(database='worldHires', fill=TRUE,xlim=c(minLong,maxLong),ylim=c(minLat,maxLat),col='lightgray',border=\"lightgray\") \n",
    "\n",
    "par(new=TRUE)\n",
    "\n",
    "colspos <- as.character(cut(statpos, breaks = length(colpos),labels =colpos))\n",
    "colsneg <- as.character(cut(statneg, breaks = length(colneg),labels =colneg))\n",
    "plot(c(lonpos,lonneg),c(latpos,latneg),type=\"n\",main=expression(paste(f[3])),xlim=c(minLong,maxLong),ylim=c(minLat,maxLat),xlab=\"Longitude\", ylab=\"Latitude\",cex.lab=2,cex.axis=2)\n",
    "\n",
    "\n",
    "\n",
    "\n",
    "#CASPIAN <- read.table('Caspian.txt')\n",
    "#polygon(CASPIAN[,2:1],col='white',border='white')\n",
    "\n",
    "PCHpos <- vector(length=length(lonpos))\n",
    "PCHneg <- vector(length=length(lonneg))\n",
    "PCHpos[1:length(PCHpos)] <- 22\n",
    "PCHneg[1:length(PCHneg)] <- 22\n",
    "\n",
    "points(lonpos,latpos,pch=PCHpos,bg=colspos,col=\"black\",cex=8)\n",
    "points(lonneg,latneg,pch=PCHneg,bg=colsneg,col=\"black\",cex=8)\n",
    "box()\n",
    "\n",
    "\n",
    "###legend\n",
    "tempcolours=rev(colors)\n",
    "legendposx= maxLong-2*padding\n",
    "legendwidth=1.5*padding\n",
    "legendtop = maxLat-(maxLat-minLat)/2\n",
    "legendbottom= minLat+(maxLat-minLat)/10\n",
    "legendspan=legendtop-legendbottom\n",
    "legendincrement=legendspan/length(colors)\n",
    "\n",
    "\n",
    "for(i in 1:length(tempcolours)) {\n",
    "  rect(legendposx,legendtop-(legendincrement*i),(legendposx+legendwidth),legendtop-(legendincrement*i-legendincrement),col=tempcolours[i],border=NA)\n",
    "}\n",
    "text(legendposx+legendwidth/2,legendtop+(maxLat-minLat)/30,round(maxstat,3),cex=3.5)\n",
    "text(legendposx+legendwidth/2,legendbottom-(maxLat-minLat)/30,round(minstat,3),cex=3.5)\n",
    "rect(legendposx,legendtop,(legendposx+legendwidth),legendbottom,col=NA)\n",
    "\n",
    " \n",
    "dev.off()\n"
   ]
  },
  {
   "cell_type": "code",
   "execution_count": 46,
   "metadata": {},
   "outputs": [
    {
     "name": "stdout",
     "output_type": "stream",
     "text": [
      "[1] \"AEASO_Qihe_dvBbdong\"\n",
      "[1] \"AEASO_Qihe_dvBbdong.map\"\n",
      "null device \n",
      "          1 \n"
     ]
    },
    {
     "name": "stderr",
     "output_type": "stream",
     "text": [
      "Loading required package: spam\n",
      "Loading required package: dotCall64\n",
      "Loading required package: grid\n",
      "Spam version 2.5-1 (2019-12-12) is loaded.\n",
      "Type 'help( Spam)' or 'demo( spam)' for a short introduction \n",
      "and overview of this package.\n",
      "Help for individual functions is also obtained by adding the\n",
      "suffix '.spam' to the function name, e.g. 'help( chol.spam)'.\n",
      "\n",
      "Attaching package: ‘spam’\n",
      "\n",
      "The following objects are masked from ‘package:base’:\n",
      "\n",
      "    backsolve, forwardsolve\n",
      "\n",
      "Loading required package: maps\n",
      "See https://github.com/NCAR/Fields for\n",
      " an extensive vignette, other supplements and source code \n",
      "Loading required package: sp\n",
      "Checking rgeos availability: FALSE\n",
      " \tNote: when rgeos is not available, polygon geometry \tcomputations in maptools depend on gpclib,\n",
      " \twhich has a restricted licence. It is disabled by default;\n",
      " \tto enable gpclib, type gpclibPermit()\n"
     ]
    }
   ],
   "source": [
    "%%bash\n",
    "\n",
    "comp=\"Qihe_dvBbdong\"\n",
    "comp2=\"QvBB\"\n",
    "\n",
    "for i in \"AEASO\"; do\n",
    "    name=\"${i}_${comp}\"\n",
    "    Rscript heatmap_aEA_f4_${comp2}.R ${name} ${label}\n",
    "done\n"
   ]
  },
  {
   "cell_type": "code",
   "execution_count": null,
   "metadata": {},
   "outputs": [],
   "source": []
  },
  {
   "cell_type": "code",
   "execution_count": null,
   "metadata": {},
   "outputs": [],
   "source": []
  }
 ],
 "metadata": {
  "kernelspec": {
   "display_name": "Python 3",
   "language": "python",
   "name": "python3"
  },
  "language_info": {
   "codemirror_mode": {
    "name": "ipython",
    "version": 3
   },
   "file_extension": ".py",
   "mimetype": "text/x-python",
   "name": "python",
   "nbconvert_exporter": "python",
   "pygments_lexer": "ipython3",
   "version": "3.7.6"
  }
 },
 "nbformat": 4,
 "nbformat_minor": 4
}
